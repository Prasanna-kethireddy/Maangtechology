{
 "cells": [
  {
   "cell_type": "code",
   "execution_count": 2,
   "id": "ec408743",
   "metadata": {},
   "outputs": [
    {
     "name": "stdout",
     "output_type": "stream",
     "text": [
      "20 --> 30 --> "
     ]
    }
   ],
   "source": [
    "class Node:\n",
    "      def __init__(self,data):\n",
    "          self.data=data\n",
    "          self.next=None\n",
    "class SLL:\n",
    "      def __init__(self):  \n",
    "          self.head=None  #empty node\n",
    "\n",
    "          \n",
    "      def display(self):\n",
    "          \n",
    "          if self.head is None:\n",
    "              print(\"Empty\")\n",
    "          else:\n",
    "             temp=self.head  #traversing\n",
    "             while temp:\n",
    "                  print(temp.data,\"-->\",end=\" \")\n",
    "                  temp=temp.next\n",
    "                 \n",
    "      def delbegin(self):\n",
    "            temp=self.head\n",
    "            self.head=temp.next\n",
    "            temp.next=None\n",
    "\n",
    "      def delend(self):\n",
    "          prev=self.head\n",
    "          temp=self.head.next\n",
    "          while temp.next is not None:\n",
    "                 temp=temp.next\n",
    "                 prev=prev.next\n",
    "          prev.next=None\n",
    "\n",
    "      def delpos(self,pos):\n",
    "           prev=self.head\n",
    "           temp=self.head.next\n",
    "           for i in range(1,pos-1):\n",
    "               temp=temp.next\n",
    "               prev=prev.next\n",
    "           prev.next=temp.next\n",
    "           temp.next=None\n",
    "L=SLL()   \n",
    "n1=Node(10)\n",
    "L.head=n1\n",
    "n2=Node(20)\n",
    "L.head.next=n2 \n",
    "n3=Node(30)\n",
    "n2.next=n3\n",
    "n4=Node(40)\n",
    "n3.next=n4\n",
    "n5=Node(50)\n",
    "n4.next=n5\n",
    "L.delbegin()\n",
    "L.delend()\n",
    "L.delpos(3)\n",
    "L.display()\n",
    "\n",
    "\n",
    "       "
   ]
  },
  {
   "cell_type": "code",
   "execution_count": null,
   "id": "a7a0f96c",
   "metadata": {},
   "outputs": [],
   "source": []
  }
 ],
 "metadata": {
  "kernelspec": {
   "display_name": "Python 3 (ipykernel)",
   "language": "python",
   "name": "python3"
  },
  "language_info": {
   "codemirror_mode": {
    "name": "ipython",
    "version": 3
   },
   "file_extension": ".py",
   "mimetype": "text/x-python",
   "name": "python",
   "nbconvert_exporter": "python",
   "pygments_lexer": "ipython3",
   "version": "3.11.3"
  }
 },
 "nbformat": 4,
 "nbformat_minor": 5
}
