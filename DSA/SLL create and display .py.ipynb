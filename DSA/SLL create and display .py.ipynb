{
 "cells": [
  {
   "cell_type": "code",
   "execution_count": 2,
   "id": "aade9c2e",
   "metadata": {},
   "outputs": [
    {
     "name": "stdout",
     "output_type": "stream",
     "text": [
      "10 --> 20 --> 30 --> 40 --> "
     ]
    }
   ],
   "source": [
    "class Node:\n",
    "      def __init__(self,data):\n",
    "          self.data=data\n",
    "          self.next=None\n",
    "class SLL:\n",
    "      def __init__(self):  \n",
    "          self.head=None  #empty nodes\n",
    "          \n",
    "      def display(self):\n",
    "          \n",
    "          if self.head is None:\n",
    "              print(\"Empty\")\n",
    "          else:\n",
    "             temp=self.head   #traversing \n",
    "             while temp:\n",
    "                  print(temp.data,\"-->\",end=\" \")\n",
    "                  temp=temp.next\n",
    "                 \n",
    "L=SLL()   \n",
    "n1=Node(10)\n",
    "L.head=n1\n",
    "n2=Node(20)\n",
    "L.head.next=n2   #n1.next=n2\n",
    "n3=Node(30)\n",
    "n2.next=n3\n",
    "n4=Node(40)\n",
    "n3.next=n4\n",
    "L.display()\n",
    "\n",
    "\n",
    "       "
   ]
  },
  {
   "cell_type": "code",
   "execution_count": null,
   "id": "ae1f5a20",
   "metadata": {},
   "outputs": [],
   "source": []
  }
 ],
 "metadata": {
  "kernelspec": {
   "display_name": "Python 3 (ipykernel)",
   "language": "python",
   "name": "python3"
  },
  "language_info": {
   "codemirror_mode": {
    "name": "ipython",
    "version": 3
   },
   "file_extension": ".py",
   "mimetype": "text/x-python",
   "name": "python",
   "nbconvert_exporter": "python",
   "pygments_lexer": "ipython3",
   "version": "3.11.3"
  }
 },
 "nbformat": 4,
 "nbformat_minor": 5
}
