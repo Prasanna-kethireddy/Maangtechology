{
 "cells": [
  {
   "cell_type": "code",
   "execution_count": 3,
   "id": "af1db1c0",
   "metadata": {},
   "outputs": [
    {
     "name": "stdout",
     "output_type": "stream",
     "text": [
      "3 --> 5 --> 10 --> 20 --> 25 --> 30 --> 40 --> 6 --> 7 --> "
     ]
    }
   ],
   "source": [
    "\n",
    "\n",
    "class Node:\n",
    "      def __init__(self,data):\n",
    "          self.data=data\n",
    "          self.next=None\n",
    "class SLL:\n",
    "      def __init__(self):  \n",
    "          self.head=None  #no nodes\n",
    "#insert at beginning\n",
    "    \n",
    "      def insertbeg(self,data):\n",
    "           nb=Node(data)\n",
    "           nb.next=self.head\n",
    "           self.head=nb\n",
    "\n",
    " #insert at ending\n",
    "\n",
    "      def insertend(self,data):\n",
    "          nb=Node(data)\n",
    "          temp=self.head\n",
    "          while temp.next:\n",
    "                 temp=temp.next\n",
    "          temp.next=nb  \n",
    "          \n",
    "      def insertpos(self,pos,data):\n",
    "          #pos=index\n",
    "          nb=Node(data)\n",
    "          temp=self.head\n",
    "          for i in range(pos-1):\n",
    "              temp=temp.next\n",
    "          nb.data=data\n",
    "          nb.next=temp.next\n",
    "          temp.next=nb\n",
    "     \n",
    "      def display(self):\n",
    "          \n",
    "          if self.head is None:\n",
    "              print(\"Empty\")\n",
    "          else:\n",
    "             temp=self.head   \n",
    "             while temp:\n",
    "                  print(temp.data,\"-->\",end=\" \")\n",
    "                  temp=temp.next\n",
    "                 \n",
    "L=SLL()    \n",
    "n1=Node(10)\n",
    "L.head=n1\n",
    "n2=Node(20)\n",
    "L.head.next=n2   #n1.next=n2\n",
    "n3=Node(30)\n",
    "n2.next=n3\n",
    "n4=Node(40)\n",
    "n3.next=n4\n",
    "L.insertbeg(5)\n",
    "L.insertbeg(3)\n",
    "L.insertend(6)\n",
    "L.insertend(7)\n",
    "L.insertpos(4,25)\n",
    "#L.insertpos(6,12)\n",
    "L.display()\n",
    "\n",
    "\n",
    "       "
   ]
  },
  {
   "cell_type": "code",
   "execution_count": null,
   "id": "5fe533ae",
   "metadata": {},
   "outputs": [],
   "source": []
  }
 ],
 "metadata": {
  "kernelspec": {
   "display_name": "Python 3 (ipykernel)",
   "language": "python",
   "name": "python3"
  },
  "language_info": {
   "codemirror_mode": {
    "name": "ipython",
    "version": 3
   },
   "file_extension": ".py",
   "mimetype": "text/x-python",
   "name": "python",
   "nbconvert_exporter": "python",
   "pygments_lexer": "ipython3",
   "version": "3.11.3"
  }
 },
 "nbformat": 4,
 "nbformat_minor": 5
}
